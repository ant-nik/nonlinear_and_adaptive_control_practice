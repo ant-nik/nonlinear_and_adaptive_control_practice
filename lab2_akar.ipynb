{
  "nbformat": 4,
  "nbformat_minor": 0,
  "metadata": {
    "anaconda-cloud": {},
    "kernelspec": {
      "display_name": "Python [default]",
      "language": "python",
      "name": "python3"
    },
    "language_info": {
      "codemirror_mode": {
        "name": "ipython",
        "version": 3
      },
      "file_extension": ".py",
      "mimetype": "text/x-python",
      "name": "python",
      "nbconvert_exporter": "python",
      "pygments_lexer": "ipython3",
      "version": "3.5.2"
    },
    "colab": {
      "name": "lab2-akar.ipynb",
      "provenance": [],
      "collapsed_sections": []
    }
  },
  "cells": [
    {
      "cell_type": "markdown",
      "metadata": {
        "id": "w_f_NuFaqJzm"
      },
      "source": [
        "# Лабораторная работа №2\n",
        "Системы с нелинейным законом управления и идентификацией параметров."
      ]
    },
    {
      "cell_type": "markdown",
      "metadata": {
        "id": "VFXG45naqJzu"
      },
      "source": [
        "### 1. Модель системы и закон управления"
      ]
    },
    {
      "cell_type": "markdown",
      "metadata": {
        "id": "xDjwIi_-qJzx"
      },
      "source": [
        "$\\dot P = - P^3 + dm + v(t)$"
      ]
    },
    {
      "cell_type": "markdown",
      "metadata": {
        "id": "6SfyUoBUqJzz"
      },
      "source": [
        "$\\dot dm = -dm + G \\, tanh(\\omega)$\n"
      ]
    },
    {
      "cell_type": "markdown",
      "metadata": {
        "id": "bAIHnSmmuLD9"
      },
      "source": [
        "Закон управления, синтезированный по методу АКАР"
      ]
    },
    {
      "cell_type": "markdown",
      "metadata": {
        "id": "CUT7xDPgtYnI"
      },
      "source": [
        "$w=(-3 P^5 + 2 P^3 + 3 P^2 dm + 3 P^2 v(t) + 3 P^2 v_0 - P + Pd - dm - 2 v(t) - 2 v_0)/G$"
      ]
    },
    {
      "cell_type": "markdown",
      "metadata": {
        "id": "xl6rtqnbtxBd"
      },
      "source": [
        "для    $P = Pd$"
      ]
    },
    {
      "cell_type": "markdown",
      "metadata": {
        "id": "YPZW6AlZuq0F"
      },
      "source": [
        "### 2. Вспомогательные модули для моделирования"
      ]
    },
    {
      "cell_type": "markdown",
      "metadata": {
        "id": "oVl6boH7qJ0d"
      },
      "source": [
        "\n",
        "Базовый класс для моделирования контроллера"
      ]
    },
    {
      "cell_type": "code",
      "metadata": {
        "id": "QRlSZeqUqJ0f"
      },
      "source": [
        "import math\n",
        "import numpy\n",
        "import matplotlib.pyplot as plt \n",
        "import scipy.integrate as mdl \n",
        "import math\n",
        "\n",
        "class PLC:\n",
        "    def __init__(self, gain, step):\n",
        "        self.last_t = 0.0\n",
        "        self.last_call_t = 0.0\n",
        "        self.last_u = 0\n",
        "        self.step = step\n",
        "        self.last_e = 0.0\n",
        "        self.gain = gain\n",
        "        self.u = []\n",
        "        self.ulim = []\n",
        "        self.t = []\n",
        "        \n",
        "    def getLimitedOutput(self,value):\n",
        "        return math.tanh(value)\n",
        "        \n",
        "    def addOutputValue(self,time,value):\n",
        "        self.t.append(time)\n",
        "        self.u.append(value)\n",
        "        self.ulim.append(self.getLimitedOutput(value))\n",
        "        \n",
        "    def output(self, x, t):\n",
        "        self.addOutputValue(t, self.last_u)\n",
        "        self.last_u = self.control(x, t)\n",
        "        self.last_t = t\n",
        "        self.addOutputValue(t,self.last_u)\n",
        "        \n",
        "        return self.gain*self.ulim[-1]\n",
        "\n",
        "def calculate(func, x0, step, time, plc):\n",
        "    result = {'t': [], 'u':[]}\n",
        "    for i in range(0,len(x0)):\n",
        "        result['x' + str(i + 1)] = []\n",
        "    rstep = plc.step\n",
        "    ode_step = step\n",
        "    timev = numpy.linspace(0.0, time, int(time/rstep+1))\n",
        "    for ti in timev:\n",
        "        uk = plc.output(x0, ti)\n",
        "        tk = numpy.linspace(ti, ti+rstep, int(rstep/ode_step+1))\n",
        "        y = mdl.odeint(func(uk), x0, tk)\n",
        "        x0 = y[-1]\n",
        "        result['t'].extend(tk[:-1])\n",
        "        for i in range(0,len(x0)):\n",
        "            result['x' + str(i + 1)].extend(y[:-1,i])\n",
        "        result['u'].extend([uk for i in tk[:-1]])\n",
        "    return result\n"
      ],
      "execution_count": null,
      "outputs": []
    },
    {
      "cell_type": "markdown",
      "metadata": {
        "id": "_yodeplwUtw5"
      },
      "source": [
        "Правая часть дифференциального уравнения объекта со ступенчатым изменением параметра"
      ]
    },
    {
      "cell_type": "code",
      "metadata": {
        "id": "eQHsrvF2U2nH"
      },
      "source": [
        "def F_with_change(step_time, init_value, finish_value):\n",
        "    def F_with_control(uc):\n",
        "        def F_internal(x, t):\n",
        "            if t > step_time:\n",
        "                v = finish_value\n",
        "            else:\n",
        "                v = init_value\n",
        "            return [ -math.pow(x[0],3) + x[1] + v, -x[1] + uc] \n",
        "    \n",
        "        return F_internal\n",
        "    return F_with_control"
      ],
      "execution_count": null,
      "outputs": []
    },
    {
      "cell_type": "markdown",
      "metadata": {
        "id": "RhxxTcwXTuDD"
      },
      "source": [
        "Вывод результатов моделирования"
      ]
    },
    {
      "cell_type": "code",
      "metadata": {
        "scrolled": true,
        "id": "WnLkBUTQqJ05"
      },
      "source": [
        "def plot_result(time, time_end, x1, x2, plc, goal):\n",
        "    plt.figure(figsize=(15,5))\n",
        "    plt.subplot(1,2,1)\n",
        "    plt.grid()\n",
        "    plt.xlim(0, time_end)\n",
        "    plt.plot(time,x1, 'r-', time, x2, 'b-') \n",
        "    plt.plot([0, time_end], [goal, goal], color='#FF0000',linestyle='--') \n",
        "    plt.subplot(1,2,2)\n",
        "    plt.grid()\n",
        "    plt.xlim(0, time_end)\n",
        "    plt.plot(plc.t, plc.u,'b-',plc.t,plc.ulim,'r-')\n",
        "    plt.plot([0, tk], [1, 1], 'r--',[0, tk], [-1, -1], 'r--',[0, tk],[0, 0],'r:')  \n",
        "    plt.ylim([-2.0, 2.0])\n",
        "    plt.show()"
      ],
      "execution_count": null,
      "outputs": []
    },
    {
      "cell_type": "markdown",
      "metadata": {
        "id": "m9JXPdaXqJ0t"
      },
      "source": [
        "Программа моделирования"
      ]
    },
    {
      "cell_type": "markdown",
      "metadata": {
        "id": "uCUOHoGwqnW7"
      },
      "source": [
        "###3.  Моделирование САУ с аналитическим регулятором"
      ]
    },
    {
      "cell_type": "code",
      "metadata": {
        "id": "9GzeIixzqJ1G"
      },
      "source": [
        "class AKAR(PLC):\n",
        "    def __init__(self, goal, gain, dtu):\n",
        "        super(AKAR,self).__init__(gain, dtu)\n",
        "        self.G=gain\n",
        "        self.Pd=goal\n",
        "    \n",
        "    def control(self, x, t):\n",
        "        return (-3*math.pow(x[0],5) + 2*math.pow(x[0],3) + 3*math.pow(x[0],2)*x[1] - x[0] - x[1] + self.Pd)/self.G # возвращаем последний элемент\n"
      ],
      "execution_count": null,
      "outputs": []
    },
    {
      "cell_type": "code",
      "metadata": {
        "id": "FWesJBnfqJ1S",
        "colab": {
          "base_uri": "https://localhost:8080/",
          "height": 324
        },
        "outputId": "1b21a47b-c674-4a80-edca-eeb8859d7568"
      },
      "source": [
        "v0_init = 0.0\n",
        "v0_finish = 2.0\n",
        "change_time = 30\n",
        "goal = 0.55\n",
        "gain = 3\n",
        "step = 0.5\n",
        "mod_step = 0.1\n",
        "tk = 60\n",
        "x0 = [0.3, -0.1]\n",
        "func_ctrl = F_with_change(change_time,v0_init,v0_finish)\n",
        "\n",
        "plc = AKAR(goal=goal, gain=gain, dtu=step)\n",
        "res = calculate(func_ctrl, x0, mod_step, tk, plc)\n",
        "plot_result(time=res['t'], time_end=tk, x1 = res['x1'], x2 = res['x2'], plc=plc, goal=goal)"
      ],
      "execution_count": null,
      "outputs": [
        {
          "output_type": "display_data",
          "data": {
            "image/png": "[encoded data removed]",
            "text/plain": [
              "<Figure size 1080x360 with 2 Axes>"
            ]
          },
          "metadata": {
            "tags": [],
            "needs_background": "light"
          }
        }
      ]
    },
    {
      "cell_type": "markdown",
      "metadata": {
        "id": "xvVi_dQ7ylSG"
      },
      "source": [
        "### 4. САУ с аналитическим регулятором и интегральной компонентой\n",
        "\n"
      ]
    },
    {
      "cell_type": "markdown",
      "metadata": {
        "id": "dIYvrT9By6Ib"
      },
      "source": [
        "Уравнения системы:\n",
        "\n",
        "$\\dot P = - \\, P^3 + dm + v(t), \\, v(t) \\approx const$ , <br>\n",
        "$\\dot dm = -dm + G \\, tanh(\\omega)$ <br>\n",
        "Функции макропеременных:\n",
        "\n",
        "$\\psi_1 = P - Pd$\n",
        "\n",
        "$\\psi_2 = \\psi_1 + z = P - Pd + z$\n",
        "\n",
        "$\\psi_3 = dm_{internal} - dm$\n",
        "\n",
        "Эталонные модели:\n",
        "\n",
        "$T_1 \\dot \\psi_2 + \\psi_2 = 0$\n",
        "\n",
        "$T_3 \\dot \\psi_3 + \\psi_3 = 0$\n",
        "\n",
        "Интегральная компонента \n",
        "\n",
        "$\\dot z = \\frac 1 {T_2} \\psi_1$ \n",
        "\n",
        "Параметр $v_0$:\n",
        "\n",
        "$v_0 = v_{min} + \\frac{(v_{max}-v_{min})}{2}$\n",
        "\n",
        "Закон внутреннего управления $dm_{internal}$:\n",
        "\n",
        "$dm_{internal} = P^3 - \\frac P {T_2} - \\frac P {T_1} + \\frac Pd {T_2} + \\frac Pd {T_1} - v_0 - \\frac z {T_1}$\n",
        "\n",
        "Итоговый закон управления $\\omega$:\n",
        "\n",
        "$\\omega = \\frac 1 {G T_1 T_2 T_3}(T_1 T_2 T_3 (-3 P^5 + 3 P^2*dm + 3 P^2*v_0 + dm) + T_1 T_2 (P^3 - dm - v_0) + T_1 T_3 (P^3 - dm - v_0) + T_1 (-P + Pd) + T_2 T_3 (P^3 - dm - v0) + T_2 (-P + Pd - z) + T_3 (-P + Pd))$\n",
        "\n",
        "при $|\\omega| < 1$.\n"
      ]
    },
    {
      "cell_type": "code",
      "metadata": {
        "id": "OV6pfGsV2_ID",
        "colab": {
          "base_uri": "https://localhost:8080/"
        },
        "outputId": "fd04a8a0-46e7-4c2f-a12f-d8dab0cb6b8b"
      },
      "source": [
        "import sympy\n",
        "from sympy.solvers import solve\n",
        "\n",
        "P = sympy.symbols('P')\n",
        "dm = sympy.symbols('dm')\n",
        "G = sympy.symbols('G')\n",
        "w = sympy.symbols('w')\n",
        "z = sympy.symbols('z')\n",
        "Pd = sympy.symbols('Pd')\n",
        "v0 = sympy.symbols('v0')\n",
        "T_1 = sympy.symbols('T_1')\n",
        "T_2 = sympy.symbols('T_2')\n",
        "T_3 = sympy.symbols('T_3')\n",
        "\n",
        "dP = -P**3 + dm + v0\n",
        "ddm = -dm + G * w\n",
        "psi_1 = P - Pd\n",
        "dz = 1/T_2*psi_1\n",
        "psi_2 = psi_1 + z\n",
        "dpsi_2 = sympy.diff(psi_2, P)*dP + sympy.diff(psi_2, z)*dz\n",
        "dmi = solve(sympy.expand(T_1*dpsi_2 + psi_2),dm)\n",
        "print(f'dz = {dz}')\n",
        "print(f'dm = {str(dmi[0])}')\n",
        "psi_3 = dmi[0] - dm\n",
        "dpsi_3 = sympy.diff(psi_3,P)*dP + sympy.diff(psi_3,dm)*ddm + sympy.diff(psi_3,z)*dz\n",
        "u = solve(sympy.expand(T_3*dpsi_3 + psi_3),w)\n",
        "u_analytical = u[0]\n",
        "print(f'psi_2 = {str(psi_2)}')\n",
        "print(f'w = {str(u_analytical)}')"
      ],
      "execution_count": null,
      "outputs": [
        {
          "output_type": "stream",
          "text": [
            "dz = (P - Pd)/T_2\n",
            "dm = P**3 - P/T_2 - P/T_1 + Pd/T_2 + Pd/T_1 - v0 - z/T_1\n",
            "psi_2 = P - Pd + z\n",
            "w = (T_1*T_2*T_3*(-3*P**5 + 3*P**2*dm + 3*P**2*v0 + dm) + T_1*T_2*(P**3 - dm - v0) + T_1*T_3*(P**3 - dm - v0) + T_1*(-P + Pd) + T_2*T_3*(P**3 - dm - v0) + T_2*(-P + Pd - z) + T_3*(-P + Pd))/(G*T_1*T_2*T_3)\n"
          ],
          "name": "stdout"
        }
      ]
    },
    {
      "cell_type": "markdown",
      "metadata": {
        "id": "8xx_Hid7YWib"
      },
      "source": [
        "Подпрограмма для реализации нелинейного регулятора с интегральной компонентой."
      ]
    },
    {
      "cell_type": "code",
      "metadata": {
        "id": "tIoa4PESWac4"
      },
      "source": [
        "class AKAR_i(PLC):\n",
        "    def __init__(self, goal, gain, dt, T1, T2, T3, v0):\n",
        "        super(AKAR_i,self).__init__(gain, dt)\n",
        "        self.dt = dt\n",
        "        self.G=gain\n",
        "        self.Pd=goal\n",
        "        self.T1 = T1\n",
        "        self.T2 = T2\n",
        "        self.T3 = T3\n",
        "        self.v0 = v0\n",
        "        self.z = []\n",
        "        self.zt = []\n",
        "    \n",
        "    def control(self, x, t):\n",
        "        P = x[0]\n",
        "        dm = x[1]\n",
        "        T_1 = self.T1\n",
        "        T_2 = self.T2\n",
        "        T_3 = self.T3 \n",
        "        Pd = self.Pd\n",
        "        G = self.G\n",
        "        v_0 = self.v0\n",
        "        v0 = v_0\n",
        "        dt = self.dt\n",
        "\n",
        "        if len(self.z) < 1:\n",
        "            z = 0.0\n",
        "        else:\n",
        "            z = self.z[-1] + dt/T_2*(P - Pd)\n",
        "        self.z.append(z)\n",
        "        self.zt.append(t)\n",
        "        return (T_1*T_2*T_3*(-3*math.pow(P,5) + 3*math.pow(P,2)*dm + 3*math.pow(P,2)*v0 \n",
        "                + dm) + T_1*T_2*(math.pow(P,3) - dm - v0) + T_1*T_3*(math.pow(P,3) \n",
        "                - dm - v0) + T_1*(-P + Pd) + T_2*T_3*(math.pow(P,3) - dm - v0) \n",
        "                + T_2*(-P + Pd - z) + T_3*(-P + Pd))/(G*T_1*T_2*T_3)\n",
        "            \n"
      ],
      "execution_count": null,
      "outputs": []
    },
    {
      "cell_type": "markdown",
      "metadata": {
        "id": "2UbkHOoEYSsq"
      },
      "source": [
        "Моделирование и результаты."
      ]
    },
    {
      "cell_type": "code",
      "metadata": {
        "id": "fQsDsM24YR-4",
        "colab": {
          "base_uri": "https://localhost:8080/",
          "height": 572
        },
        "outputId": "ea0b1c72-3d5c-47a8-e729-ef433b87bc14"
      },
      "source": [
        "\n",
        "reg = AKAR_i(goal=goal, gain=gain, dt=step, T1=0.5, T2=5.0, T3=0.5, v0=1.0)\n",
        "res = calculate(func_ctrl, x0, mod_step, tk, reg)\n",
        "plot_result(time=res['t'], time_end=tk, x1 = res['x1'], x2 = res['x2'], plc=reg, goal=goal)\n",
        "\n",
        "tend = tk\n",
        "plt.figure()\n",
        "plt.plot(reg.zt, reg.z, 'b-')\n",
        "plt.xlim([0.0, tk])\n",
        "plt.grid()\n",
        "plt.show()"
      ],
      "execution_count": null,
      "outputs": [
        {
          "output_type": "display_data",
          "data": {
            "image/png": "[encoded data removed]",
            "text/plain": [
              "<Figure size 1080x360 with 2 Axes>"
            ]
          },
          "metadata": {
            "tags": [],
            "needs_background": "light"
          }
        },
        {
          "output_type": "display_data",
          "data": {
            "image/png": "[encoded data removed]",
            "text/plain": [
              "<Figure size 432x288 with 1 Axes>"
            ]
          },
          "metadata": {
            "tags": [],
            "needs_background": "light"
          }
        }
      ]
    }
  ]
}