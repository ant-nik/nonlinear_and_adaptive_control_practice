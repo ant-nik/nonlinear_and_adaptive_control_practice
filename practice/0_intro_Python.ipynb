{
 "cells": [
  {
   "cell_type": "markdown",
   "metadata": {
    "slideshow": {
     "slide_type": "slide"
    }
   },
   "source": [
    "# Введение в Python"
   ]
  },
  {
   "cell_type": "markdown",
   "metadata": {
    "slideshow": {
     "slide_type": "subslide"
    }
   },
   "source": [
    "Python - это свободный интерпретируемый объектно-ориентированный расширяемый встраиваемый язык программирования очень высокого уровня (Г.Россум, Ф.Л.Дж.Дрейк, Д.С.Откидач \"Язык программирования Python\")\n",
    "\n",
    "- свободный - все исходные тексты открыты для любого использования, даже коммерческого\n",
    "- интерпретируемый - использует \"позднее связывание\"\n",
    "- объектно-ориентированный - классическая ОО модель с множественным наследованием\n",
    "- расширяемый - имеет строго определенные API для создания модулей, типов и классов на C или C++\n",
    "- встраиваемый - имеет строго определенные API для встраивания интерпретатора в другие программы\n",
    "- очень высокого уровня - динамическая типизация, встроенные типы данных высокого уровня (например, словари), классы, модули, исключения\n"
   ]
  },
  {
   "cell_type": "markdown",
   "metadata": {},
   "source": [
    " Anaconda - сборка библиотек"
   ]
  },
  {
   "cell_type": "markdown",
   "metadata": {
    "slideshow": {
     "slide_type": "slide"
    }
   },
   "source": [
    "# Обзор сред"
   ]
  },
  {
   "cell_type": "markdown",
   "metadata": {},
   "source": [
    "- [PyCharm](https://www.jetbrains.com/pycharm/) - одна из самых популярных сред разработки (IDE) на языке Python\n",
    "- [IPython notebook](http://ipython.org/) - интерактивная среда для вычислений, способная совмещать код, картинки, markdown-разметку и графики. Начиная с версии IPython 4.0, большая часть проекта перешла в Jupyter. \n",
    "- [Jupyter notebook](https://jupyter.org/) - это веб-оболочка, в которой можно выполнять код на 40 популярных в анализе данных языках, включая Python, R, Julia и Scala.\n",
    "\n",
    "В нашем курсе рекомендуется использовать тетрадки IPython.\n",
    "\n",
    "- [Colaboratory/Colab](https://colab.research.google.com/?hl=ru#scrollTo=5fCEDCU_qrC0) — это бесплатная интерактивная облачная среда для работы с кодом от Google, работает на серверах Google\n",
    "- [Kaggle Notebooks](https://www.kaggle.com/code) - онлайн-среда для программирования, которая работает на серверах Kaggle. В ней можно писать Python/R-скрипты и работать в Jupyter Notebooks. \n",
    "- [Yandex DataSphere](https://cloud.yandex.ru/services/datasphere) - -//-// - только от Yandex\n",
    "\n",
    "Такие ядра абсолютно бесплатны (можно использовать GPU)"
   ]
  },
  {
   "cell_type": "markdown",
   "metadata": {
    "slideshow": {
     "slide_type": "slide"
    }
   },
   "source": [
    "# Особенности языка Python"
   ]
  },
  {
   "cell_type": "markdown",
   "metadata": {},
   "source": [
    "***Динамическая типизация***. Типы данных в языке Python определяются автоматически во время выполнения, а не в результате объявлений в программном коде. Переменные создаются при выполнении операции присваивания, могут ссылаться на объекты любых типов и им должны быть присвоены некоторые значения, прежде чем к ним можно будет обратиться.\n",
    "\n",
    "***Строгая(сильная) типизация*** (Python не разрешит сложить число 1 и строку '7' , потому что это значения разных типов)\n",
    "Скажем, PHP, это язык со слабой типизацией. Он знает о существовании разных типов (числа, строки и др.), но относится к их использованию не очень строго, пытаясь преобразовывать информацию, когда это кажется разумным. Тоже самое относится к JavaScript\n",
    "\n",
    "\n",
    "\n",
    "В последних версиях Python есть анотация типов\n",
    "\n",
    "Переменные - ссылки на участки памяти"
   ]
  },
  {
   "cell_type": "markdown",
   "metadata": {
    "slideshow": {
     "slide_type": "subslide"
    }
   },
   "source": [
    "## Хороший тон:\n",
    "- только латиница\n",
    "- не транслит\n",
    "- не использовать короткие имена переменных\n",
    "- название переменной должно соответсвовать содержимому\n",
    "- название из нескольких слов, можно использовать _\n",
    "- заглавные буквы только для констант\n",
    "- для остальных случаев маленькие\n",
    "\n",
    "\n",
    "- стиль snake_case характерен для Python\n",
    "- стиль CamelCase не для Python"
   ]
  },
  {
   "cell_type": "markdown",
   "metadata": {
    "slideshow": {
     "slide_type": "slide"
    }
   },
   "source": [
    "# Условный оператор\n",
    "\n",
    "Ложные объекты:\n",
    "* Пустые объекты: списки, множества, строки, ...\n",
    "* Число 0\n",
    "* Значение None\n"
   ]
  },
  {
   "cell_type": "code",
   "execution_count": 54,
   "metadata": {},
   "outputs": [
    {
     "name": "stdout",
     "output_type": "stream",
     "text": [
      "Выполнено условие 2\n"
     ]
    }
   ],
   "source": [
    "a = 12\n",
    "b = 0\n",
    "\n",
    "if a == 13:\n",
    "    print('Выполнено условие 1')\n",
    "elif (a == 12 and 0 <= b <= 20):\n",
    "    print('Выполнено условие 2')\n",
    "else:\n",
    "    print('Ни одно из условий не выполнено')"
   ]
  },
  {
   "cell_type": "markdown",
   "metadata": {},
   "source": [
    "Логические операторы"
   ]
  },
  {
   "cell_type": "code",
   "execution_count": 56,
   "metadata": {},
   "outputs": [
    {
     "name": "stdout",
     "output_type": "stream",
     "text": [
      "0\n",
      "12\n",
      "False\n"
     ]
    }
   ],
   "source": [
    "print(a and b)\n",
    "print(a or b)\n",
    "print(not a)"
   ]
  },
  {
   "cell_type": "markdown",
   "metadata": {},
   "source": [
    "Трехместное выражение if/else"
   ]
  },
  {
   "cell_type": "code",
   "execution_count": 58,
   "metadata": {
    "slideshow": {
     "slide_type": "subslide"
    }
   },
   "outputs": [],
   "source": [
    "if a == 13:\n",
    "    c = 11\n",
    "else:\n",
    "    c = 0"
   ]
  },
  {
   "cell_type": "code",
   "execution_count": 59,
   "metadata": {},
   "outputs": [],
   "source": [
    "c = 11 if a == 13 else 0"
   ]
  },
  {
   "cell_type": "markdown",
   "metadata": {
    "slideshow": {
     "slide_type": "slide"
    }
   },
   "source": [
    "# Циклы\n",
    "Цикл **while**\n",
    "```python\n",
    "i = 1\n",
    "while i <= 10:\n",
    "    print(i)\n",
    "    i += 1  # Выведет числа от 1 до 10\n",
    "```\n",
    "Цикл **for**\n",
    "```python\n",
    "for i in range(1, 11):\n",
    "    print(i)  # Выведет числа от 1 до 10\n",
    "```\n",
    "_range(start, stop, step) - функция, возвращающая итератор от start до stop с шагом step_\n",
    "\n"
   ]
  },
  {
   "cell_type": "markdown",
   "metadata": {
    "slideshow": {
     "slide_type": "subslide"
    }
   },
   "source": [
    "Оператор **continue** - оператор, который начинает следующую итерацию цикла\n",
    "```python\n",
    "for i in range(1, 11):\n",
    "    if i == 5:\n",
    "        continue\n",
    "    print(i)  # Выведет числа от 1 до 10 за исключением 5\n",
    "```\n",
    "Оператор **break** - оператор, который прерывает цикл\n",
    "```python\n",
    "for i in range(1, 11):\n",
    "    if i == 5:\n",
    "        break\n",
    "    print(i)  # Выведет числа от 1 до 4\n",
    "```\n",
    "Окончание цикла\n",
    "Если цикл завершился без прерывания, то выполняется условие **else**\n",
    "```python\n",
    "for i in range(1, 11):\n",
    "    print(i)\n",
    "else:\n",
    "    print('Цикл завершился корректно')\n",
    "```"
   ]
  },
  {
   "cell_type": "markdown",
   "metadata": {
    "slideshow": {
     "slide_type": "slide"
    }
   },
   "source": [
    "# Встроенные типы данных\n",
    "\n",
    "\n",
    "- Числа (7382, 3.14, 3+4j, Decimal, Fraction)\n",
    "- Строки ('net', \"your's\", u'радость')\n",
    "- Списки ([1, [2, 'three'], 4])\n",
    "- Словари ({'Alex': 2, 'Brian': 4})\n",
    "- Кортежи ('Leo', 21.7, 'single')\n",
    "- Множества (set(1,2,3), {'a', 'b', 'c'})\n",
    "- Файлы (open('myfile', 'r'))\n",
    "\n",
    "Число в Python может быть какое угодно большое"
   ]
  },
  {
   "cell_type": "markdown",
   "metadata": {
    "slideshow": {
     "slide_type": "slide"
    }
   },
   "source": [
    "# Числа"
   ]
  },
  {
   "cell_type": "markdown",
   "metadata": {},
   "source": [
    "Числа в Python бывают разные:\n",
    "\n",
    "- Целые числа (int): 122, -4, 99999999999, 0o177, 0x9ff, 0b101010\n",
    "- Вещественные числа (float): 1.0, 3.14, .5, 4E21, 4.0e21\n",
    "- Комплексные числа (complex): 3 + 4j, 3.0 + 4.0j,\n",
    "- Числа фиксированной точности% decimal.Decimal('0.1')\n",
    "- Рациональные числа: fractions.Fraction(3, 4)"
   ]
  },
  {
   "cell_type": "markdown",
   "metadata": {
    "slideshow": {
     "slide_type": "subslide"
    }
   },
   "source": [
    "###  Целые и вещественные"
   ]
  },
  {
   "cell_type": "code",
   "execution_count": 18,
   "metadata": {},
   "outputs": [],
   "source": [
    "int_var_1 = 1000000 \n",
    "int_var_2 = 1_000_000  # просто для визуального удоства\n",
    "\n",
    "float_var_3 = 1000. \n",
    "float_var_4 = 0.001"
   ]
  },
  {
   "cell_type": "code",
   "execution_count": 20,
   "metadata": {},
   "outputs": [
    {
     "data": {
      "text/plain": [
       "float"
      ]
     },
     "execution_count": 20,
     "metadata": {},
     "output_type": "execute_result"
    }
   ],
   "source": [
    "type(float_var_4)"
   ]
  },
  {
   "cell_type": "code",
   "execution_count": 24,
   "metadata": {},
   "outputs": [
    {
     "data": {
      "text/plain": [
       "2"
      ]
     },
     "execution_count": 24,
     "metadata": {},
     "output_type": "execute_result"
    }
   ],
   "source": [
    "# Целочисленное деление:\n",
    "5 // 2"
   ]
  },
  {
   "cell_type": "code",
   "execution_count": 25,
   "metadata": {},
   "outputs": [
    {
     "data": {
      "text/plain": [
       "1"
      ]
     },
     "execution_count": 25,
     "metadata": {},
     "output_type": "execute_result"
    }
   ],
   "source": [
    "# Остаток отделения:\n",
    "5 % 2"
   ]
  },
  {
   "cell_type": "code",
   "execution_count": 26,
   "metadata": {},
   "outputs": [
    {
     "data": {
      "text/plain": [
       "45.0"
      ]
     },
     "execution_count": 26,
     "metadata": {},
     "output_type": "execute_result"
    }
   ],
   "source": [
    "# Обратите внимания, вещественный тип (приведение к большему типу)\n",
    "5 * 9.0"
   ]
  },
  {
   "cell_type": "code",
   "execution_count": 27,
   "metadata": {},
   "outputs": [
    {
     "data": {
      "text/plain": [
       "111.0"
      ]
     },
     "execution_count": 27,
     "metadata": {},
     "output_type": "execute_result"
    }
   ],
   "source": [
    "# Обратите внимания, вещественный тип \n",
    "999 / 9"
   ]
  },
  {
   "cell_type": "code",
   "execution_count": null,
   "metadata": {},
   "outputs": [],
   "source": [
    "# возведение в степень\n",
    "2 ** 10"
   ]
  },
  {
   "cell_type": "code",
   "execution_count": 31,
   "metadata": {},
   "outputs": [
    {
     "data": {
      "text/plain": [
       "22"
      ]
     },
     "execution_count": 31,
     "metadata": {},
     "output_type": "execute_result"
    }
   ],
   "source": [
    "# сокращенные операции для сложения +=, деления /=, остатка %= , возведения в степень **=\n",
    "a = 12\n",
    "b = 10\n",
    "a += b \n",
    "a"
   ]
  },
  {
   "cell_type": "markdown",
   "metadata": {
    "slideshow": {
     "slide_type": "subslide"
    }
   },
   "source": [
    "### Комплексные числа"
   ]
  },
  {
   "cell_type": "code",
   "execution_count": 36,
   "metadata": {},
   "outputs": [
    {
     "data": {
      "text/plain": [
       "(5.6000000000000005+5.800000000000001j)"
      ]
     },
     "execution_count": 36,
     "metadata": {},
     "output_type": "execute_result"
    }
   ],
   "source": [
    "complex(2, 3) / (1 + 2j) * (3 + 4j)"
   ]
  },
  {
   "cell_type": "code",
   "execution_count": 37,
   "metadata": {},
   "outputs": [
    {
     "data": {
      "text/plain": [
       "2.23606797749979"
      ]
     },
     "execution_count": 37,
     "metadata": {},
     "output_type": "execute_result"
    }
   ],
   "source": [
    "abs(1 + 2j)"
   ]
  },
  {
   "cell_type": "markdown",
   "metadata": {
    "slideshow": {
     "slide_type": "slide"
    }
   },
   "source": [
    "# Строки (str)"
   ]
  },
  {
   "cell_type": "markdown",
   "metadata": {},
   "source": [
    "Специальные символы:\n",
    "* \\n - новая строка\n",
    "* \\t - табуляция\n",
    "* \\r - возврат каретки\n",
    "\n",
    "Строки в тройных апострофах или кавычках позволяют записывать многострочные блоки текста."
   ]
  },
  {
   "cell_type": "code",
   "execution_count": 11,
   "metadata": {},
   "outputs": [
    {
     "name": "stdout",
     "output_type": "stream",
     "text": [
      "String\n",
      "String\n",
      "String\n",
      "with many lines\n",
      "String\n"
     ]
    }
   ],
   "source": [
    "string_variable = 'String'\n",
    "print(string_variable)\n",
    "\n",
    "string_variable = \"String\"\n",
    "print(string_variable)\n",
    "\n",
    "string_variable = \"\"\"String\n",
    "with many lines\"\"\"\n",
    "print(string_variable)\n",
    "\n",
    "string_variable = '''String'''\n",
    "print(string_variable)"
   ]
  },
  {
   "cell_type": "code",
   "execution_count": 21,
   "metadata": {},
   "outputs": [
    {
     "name": "stdout",
     "output_type": "stream",
     "text": [
      "special symbols tabulation\t and \n",
      "new lines\n"
     ]
    }
   ],
   "source": [
    "print(\"special symbols tabulation\\t and \\nnew lines\")"
   ]
  },
  {
   "cell_type": "code",
   "execution_count": 23,
   "metadata": {
    "slideshow": {
     "slide_type": "slide"
    }
   },
   "outputs": [
    {
     "name": "stdout",
     "output_type": "stream",
     "text": [
      "Department of Automation\n"
     ]
    }
   ],
   "source": [
    "str_1 = 'Department' \n",
    "str_2 ='of' \n",
    "str_3 = 'Automation'\n",
    "\n",
    "print(str_1 + ' ' + str_2 + ' ' + str_3)"
   ]
  },
  {
   "cell_type": "code",
   "execution_count": 26,
   "metadata": {},
   "outputs": [
    {
     "data": {
      "text/plain": [
       "'Department of Automation'"
      ]
     },
     "execution_count": 26,
     "metadata": {},
     "output_type": "execute_result"
    }
   ],
   "source": [
    "' '.join([str_1, str_2, str_3])"
   ]
  },
  {
   "cell_type": "code",
   "execution_count": 28,
   "metadata": {},
   "outputs": [
    {
     "data": {
      "text/plain": [
       "'PythonPythonPython'"
      ]
     },
     "execution_count": 28,
     "metadata": {},
     "output_type": "execute_result"
    }
   ],
   "source": [
    "# можно выполнять операции между строками, которе есть у числовых\n",
    "'Python' * 3"
   ]
  },
  {
   "cell_type": "code",
   "execution_count": 29,
   "metadata": {},
   "outputs": [
    {
     "data": {
      "text/plain": [
       "10"
      ]
     },
     "execution_count": 29,
     "metadata": {},
     "output_type": "execute_result"
    }
   ],
   "source": [
    "#для нахождения длины строки\n",
    "len(str_1)"
   ]
  },
  {
   "cell_type": "markdown",
   "metadata": {
    "slideshow": {
     "slide_type": "slide"
    }
   },
   "source": [
    "# Списки (list)"
   ]
  },
  {
   "cell_type": "markdown",
   "metadata": {},
   "source": [
    "Список - это коллекция объектов, хранящаяся в одной переменной. Между этими объетами есть какая-то смысловая связь, но формально нет никаких ограничений на типы объектов, которые могут храниться в одном списке.\n",
    "\n",
    "В масивах: элементы размещаются в непрерывной области памяти, что позволяет с меньшими вычислительными затратами изменять, добавлять, удалять и получать доступ к элементу (не входит в стандарный Python)."
   ]
  },
  {
   "cell_type": "code",
   "execution_count": 36,
   "metadata": {},
   "outputs": [
    {
     "data": {
      "text/plain": [
       "[1, 2, 3, 4, 5, 'six', 'seven', [], [5, 'f']]"
      ]
     },
     "execution_count": 36,
     "metadata": {},
     "output_type": "execute_result"
    }
   ],
   "source": [
    "list_example = [1, 2, 3, 4, 5, 'six', 'seven', [], [5, 'f']]\n",
    "list_example"
   ]
  },
  {
   "cell_type": "code",
   "execution_count": 43,
   "metadata": {},
   "outputs": [],
   "source": [
    "lst_st = list('Строка')  # ['С', 'т', 'р', 'о', 'к', 'а']\n",
    "lst_rng = list(range(10))  # [0, 1, 2, 3, 4, 5, 6, 7, 8, 9]\n",
    "lst_var = [1, 'a', 'abc', None, ['Other', 'list'], 3.14]"
   ]
  },
  {
   "cell_type": "markdown",
   "metadata": {},
   "source": [
    "Индексирование"
   ]
  },
  {
   "cell_type": "code",
   "execution_count": 44,
   "metadata": {},
   "outputs": [],
   "source": [
    "lst_st[1]  # 'т'\n",
    "lst_st[-1]  ;# 'а'"
   ]
  },
  {
   "cell_type": "markdown",
   "metadata": {},
   "source": [
    "Срезы"
   ]
  },
  {
   "cell_type": "code",
   "execution_count": 42,
   "metadata": {},
   "outputs": [],
   "source": [
    "lst_st[1:4]  # ['т', 'р', 'о']\n",
    "lst_st[:3]  # ['С', 'т', 'р']\n",
    "lst_st[-3:]  # ['о', 'к', 'а']\n",
    "lst_rng[:6:2]  # [0, 2, 4]\n",
    "lst_st[::-1]  ;# ['а', 'к', 'о', 'р', 'т', 'С']"
   ]
  },
  {
   "cell_type": "markdown",
   "metadata": {},
   "source": [
    "Длина списка"
   ]
  },
  {
   "cell_type": "code",
   "execution_count": 45,
   "metadata": {},
   "outputs": [
    {
     "data": {
      "text/plain": [
       "10"
      ]
     },
     "execution_count": 45,
     "metadata": {},
     "output_type": "execute_result"
    }
   ],
   "source": [
    "len(lst_rng)"
   ]
  },
  {
   "cell_type": "markdown",
   "metadata": {},
   "source": [
    "Наличие элемента в списке"
   ]
  },
  {
   "cell_type": "code",
   "execution_count": 47,
   "metadata": {},
   "outputs": [
    {
     "data": {
      "text/plain": [
       "True"
      ]
     },
     "execution_count": 47,
     "metadata": {},
     "output_type": "execute_result"
    }
   ],
   "source": [
    "2 in lst_rng "
   ]
  },
  {
   "cell_type": "markdown",
   "metadata": {
    "slideshow": {
     "slide_type": "subslide"
    }
   },
   "source": [
    "### Методы списков\n",
    "\n",
    "##### методы списков, в отличие от строковых методов, изменяют сам список, а потому результат выполнения не нужно записывать в эту переменную\n",
    "* Добавление элемента\n",
    "```python\n",
    "lst_st.append('!')  # lst_st -> ['С', 'т', 'р', 'о', 'к', 'а', '!']\n",
    "```\n",
    "* Расширение списка\n",
    "```python\n",
    "lst_st.extend(['1', '2'])  # lst_st -> ['С', 'т', 'р', 'о', 'к', 'а', '1', '2']\n",
    "```\n",
    "* Удаление элемента (первый совпадающий)\n",
    "```python\n",
    "lst_st.remove('р')  # lst_st -> ['С', 'т', 'о', 'к', 'а']\n",
    "```\n",
    "* Вставка элемента\n",
    "```python\n",
    "lst_st.insert(4, 'ч')  # lst_st -> ['С', 'т', 'р', 'о', 'ч', 'к', 'а']\n",
    "```\n",
    "* Подсчет элементов\n",
    "```python\n",
    "lst_nums = [1, 2, 0, 1, 2, 1]\n",
    "lst_nums.count(1)  # 3\n",
    "```\n",
    "* Сортировка элементов\n",
    "```python\n",
    "lst_nums.sort()  # [0, 1, 1, 1, 2, 2]\n",
    "```"
   ]
  },
  {
   "cell_type": "markdown",
   "metadata": {
    "slideshow": {
     "slide_type": "slide"
    }
   },
   "source": [
    "# Кортежи (tuple)\n",
    "\n",
    "### Кортеж - неизменяемый список\n",
    "\n",
    "```python\n",
    "lst = [1, 2, 3, 4, 5, 6]  # Список\n",
    "tpl = (1, 2, 3, 4, 5, 6)  # Кортеж\n",
    "```\n",
    "\n",
    "Отличия от списков:\n",
    "* Защита от изменений\n",
    "* Меньший размер\n",
    "* Возможность использовать как ключи словаря\n",
    "```python\n",
    "dct = {1: 'a', (2, 3): 'b'} \n",
    "```"
   ]
  },
  {
   "cell_type": "markdown",
   "metadata": {
    "slideshow": {
     "slide_type": "subslide"
    }
   },
   "source": [
    "Операции с кортежами:\n",
    "* Создание\n",
    "```python\n",
    "tpl = (1, 2, 3, 4, 5, 6)\n",
    "tpl = tuple([1, 2, 3, 4, 5, 6])  # Преобразование из списка\n",
    "tpl = tuple(range(5))  # Преобразование из генератора\n",
    "tpl = tuple()  # Пустой кортеж\n",
    "tpl = (1, )  # Кортеж из одного элемета. Запятая обязательна\n",
    "```\n",
    "* Разбиение на элементы\n",
    "```python\n",
    "a, b = (1, 'c')  # a = 1; b = 'c'\n",
    "```\n",
    "* Смена местами значения двух переменных\n",
    "```python\n",
    "a, b = b, a\n",
    "```"
   ]
  },
  {
   "cell_type": "markdown",
   "metadata": {
    "slideshow": {
     "slide_type": "slide"
    }
   },
   "source": [
    "# Словари (dict)\n",
    "***Словарь - неупорядоченные коллекции произвольных объектов с доступом по ключу. Их иногда ещё называют ассоциативными массивами или хеш-таблицами***\n",
    "\n",
    "Ключ словаря -- неизменяемый тип\n",
    "\n",
    "Создание\n",
    "```python\n",
    "dct = {'a': 1, 'b': 2}\n",
    "dct = dict(a=1, b=2)\n",
    "dct = dict([('a', 1), ('b', 2)])\n",
    "dct_frk = dict.fromkeys(['a', 'b'], 1)  # {'a': 1, 'b': 1}\n",
    "dct_rng = {i: i ** 2 for i in range(5)}  # {0: 0, 1: 1, 2: 4, 3: 9, 4: 16}\n",
    "```\n",
    "Получение элемента\n",
    "```python\n",
    "dct['a']  # 1\n",
    "dct.get('a')  # 1\n",
    "```"
   ]
  },
  {
   "cell_type": "markdown",
   "metadata": {
    "slideshow": {
     "slide_type": "subslide"
    }
   },
   "source": [
    "### Методы словарей\n",
    "*  Получение пары (ключ, значение)\n",
    "```python\n",
    "dct.items()  # Итератор [('a', 1), ('b', 2)]\n",
    "```\n",
    "* Получение ключей\n",
    "```python\n",
    "dct.keys()  # Итератор ['a', 'b']\n",
    "```\n",
    "* Получение значение\n",
    "```python\n",
    "dct.values()  # Итератор [1, 2]\n",
    "```\n",
    "* Добавление нового словаря (обновляет славарь, возвращает None)\n",
    "```python\n",
    "dct.update(new_dct)\n",
    "```\n",
    "* Получение элемента и удаление его из словаря\n",
    "```python\n",
    "dct.pop('a')  # 1, dct -> {'b': 2}\n",
    "```"
   ]
  },
  {
   "cell_type": "markdown",
   "metadata": {
    "slideshow": {
     "slide_type": "slide"
    }
   },
   "source": [
    "# Множества (set)\n",
    "### Множество - \"контейнер\", содержащий не повторяющиеся элементы в случайном порядке\n",
    "Создание\n",
    "```python\n",
    "st = {1, 2, 3, 2, 1}  # {1, 2, 3}\n",
    "st = set([1, 2, 3, 2, 1])\n",
    "```\n",
    "### Методы\n",
    "* Добавление элемента\n",
    "```python\n",
    "st.add(4)  # st -> {1, 2, 3, 4}\n",
    "```\n",
    "* Добавление другого множества\n",
    "```python\n",
    "st.update({})  # st -> {1, 2, 3, 4}\n",
    "```\n",
    "* Определение, является ли подмножеством\n",
    "```python\n",
    "st.issubset({1, 2, 3, 4})  # True\n",
    "```\n",
    "* Объеднинение множеств\n",
    "```python\n",
    "st.union({0, 1, 2})  # {0, 1, 2, 3}\n",
    "```\n",
    "* Пересечение множеств\n",
    "```python\n",
    "st.intersection({0, 1, 2})  # {1, 2}\n",
    "```"
   ]
  },
  {
   "cell_type": "markdown",
   "metadata": {
    "slideshow": {
     "slide_type": "subslide"
    }
   },
   "source": [
    "#### Неизменяемое множество (frozenset)\n",
    "```python\n",
    "frozenset([1, 2, 3, 2, 1])\n",
    "```"
   ]
  },
  {
   "cell_type": "markdown",
   "metadata": {
    "slideshow": {
     "slide_type": "slide"
    }
   },
   "source": [
    "### Списки, кортежи, словари и множества работают через указатели!"
   ]
  },
  {
   "cell_type": "code",
   "execution_count": 60,
   "metadata": {
    "slideshow": {
     "slide_type": "subslide"
    }
   },
   "outputs": [
    {
     "name": "stdout",
     "output_type": "stream",
     "text": [
      "[1, 2, 3, 4, 5]\n",
      "[1, 10, 3, 4, 5]\n"
     ]
    }
   ],
   "source": [
    "lst1 = [1, 2, 3, 4, 5]\n",
    "lst2 = lst1\n",
    "\n",
    "print(lst2)\n",
    "\n",
    "lst1[1] = 10\n",
    "\n",
    "print(lst2)"
   ]
  },
  {
   "cell_type": "code",
   "execution_count": 61,
   "metadata": {
    "slideshow": {
     "slide_type": "subslide"
    }
   },
   "outputs": [
    {
     "name": "stdout",
     "output_type": "stream",
     "text": [
      "[1, 2, ['a', 'b', 'c'], 4]\n",
      "[1, 2, ['a', 'o', 'c'], 4]\n"
     ]
    }
   ],
   "source": [
    "lst1 = ['a', 'b', 'c']\n",
    "lst2 = [1, 2, lst1, 4]\n",
    "\n",
    "print(lst2)\n",
    "\n",
    "lst1[1] = 'o'\n",
    "\n",
    "print(lst2)"
   ]
  },
  {
   "cell_type": "code",
   "execution_count": 62,
   "metadata": {
    "slideshow": {
     "slide_type": "subslide"
    }
   },
   "outputs": [
    {
     "name": "stdout",
     "output_type": "stream",
     "text": [
      "[1, 2, 3, 4, 5, [...]]\n",
      "[1, 2, 3, 4, 5, [...]]\n",
      "[1, 2, 3, 4, 5, [...]]\n"
     ]
    }
   ],
   "source": [
    "# Рекурсивный список\n",
    "\n",
    "lst1 = [1, 2, 3, 4, 5]\n",
    "lst1.append(lst1)\n",
    "\n",
    "print(lst1)\n",
    "print(lst1[-1])\n",
    "print(lst1[-1][-1])"
   ]
  },
  {
   "cell_type": "markdown",
   "metadata": {
    "slideshow": {
     "slide_type": "slide"
    }
   },
   "source": [
    "# Функции\n",
    "```python\n",
    "def mult(x, y):\n",
    "    return x * y  # Возвращаемое значение\n",
    "\n",
    "c = mult(3, 5)  # 15\n",
    "```\n",
    "\n",
    "Возврат нескольких значение\n",
    "```python\n",
    "def add_mult(x, y):\n",
    "    return x + y, x * y  # Возвращаемое значение\n",
    "\n",
    "c, d = add_mult(3, 5)  # 8, 15\n",
    "```\n",
    "\n",
    "Возврат функции\n",
    "```python\n",
    "def main_func(n):\n",
    "    def sub_func(x):\n",
    "        return x ** n\n",
    "    return sub_func\n",
    "\n",
    "f = main_func(3)\n",
    "c = f(2)  # 8\n",
    "```"
   ]
  },
  {
   "cell_type": "markdown",
   "metadata": {
    "slideshow": {
     "slide_type": "subslide"
    }
   },
   "source": [
    "Аргументы функции\n",
    "```python\n",
    "# Значения по умолчанию. y можно не указывать\n",
    "def func(x, y=2):\n",
    "    return x ** y\n",
    "\n",
    "# Вызов функции со значениями в произвольном порядке\n",
    "func(y=3, x=2)\n",
    "\n",
    "# Произвольное число аргументов (передаётся как tuple)\n",
    "def func(*args):\n",
    "    return sum(args)\n",
    "\n",
    "func(1, 2, 5, 10)  # 18\n",
    "\n",
    "# Произвольное число именованных аргументов (передаётся как dict)\n",
    "def func(**kwargs):\n",
    "    return kwargs\n",
    "\n",
    "func(a=1, b=2)  # {'a': 1, 'b': 2}\n",
    "```"
   ]
  },
  {
   "cell_type": "markdown",
   "metadata": {
    "slideshow": {
     "slide_type": "subslide"
    }
   },
   "source": [
    "## Анонимные функции (lambda)\n",
    "\n",
    "```python\n",
    "func = lambda x, y: x * y\n",
    "func(3, 5)  # 15\n",
    "```"
   ]
  },
  {
   "cell_type": "markdown",
   "metadata": {
    "slideshow": {
     "slide_type": "slide"
    }
   },
   "source": [
    "### Строки документации\n",
    "Строка документации — это однострочный или многострочный строковый литерал, разделенный тройными одинарными или двойными кавычками \"\"\"Описание\"\"\" в начале модуля, класса, метода или функции, который описывает, что делает функция.\n",
    "\n",
    "Только в случае, если это первый оператор в функции, он может быть распознан компилятором байт-кода Python и доступен как атрибуты объекта времени выполнения с помощью метода **\\_\\_doc\\_\\_** или функции **help()**."
   ]
  },
  {
   "cell_type": "code",
   "execution_count": 5,
   "metadata": {
    "slideshow": {
     "slide_type": "subslide"
    }
   },
   "outputs": [
    {
     "name": "stdout",
     "output_type": "stream",
     "text": [
      "Help on function power in module __main__:\n",
      "\n",
      "power(a, b)\n",
      "    Returns arg1 raised to power arg2.\n",
      "\n"
     ]
    }
   ],
   "source": [
    "def power(a, b): \n",
    "    \"\"\"Returns arg1 raised to power arg2.\"\"\"\n",
    "    return a**b\n",
    "\n",
    "\n",
    "help(power)"
   ]
  },
  {
   "cell_type": "code",
   "execution_count": 6,
   "metadata": {},
   "outputs": [
    {
     "data": {
      "text/plain": [
       "'Returns arg1 raised to power arg2.'"
      ]
     },
     "execution_count": 6,
     "metadata": {},
     "output_type": "execute_result"
    }
   ],
   "source": [
    "power.__doc__"
   ]
  },
  {
   "cell_type": "code",
   "execution_count": 14,
   "metadata": {
    "slideshow": {
     "slide_type": "subslide"
    }
   },
   "outputs": [],
   "source": [
    "# Формат numpy\n",
    "def string_reverse_and_concat(str1, str2):\n",
    "    \"\"\"\n",
    "    Returns the reversed and concated strings\n",
    "\n",
    "    Parameters\n",
    "    ----------\n",
    "    str1 : str\n",
    "        The string which is to be reversed\n",
    "    str2 : str\n",
    "        The string which is to be concated\n",
    "\n",
    "\n",
    "    Returns\n",
    "    -------\n",
    "    result : str\n",
    "        The string which gets reversed str1 and concated with str2   \n",
    "    \"\"\"\n",
    "\n",
    "    reverse_str1 = str1[::-1]\n",
    "    result = reverse_str1 + str2\n",
    "    \n",
    "    return result"
   ]
  },
  {
   "cell_type": "code",
   "execution_count": 15,
   "metadata": {
    "slideshow": {
     "slide_type": "subslide"
    }
   },
   "outputs": [
    {
     "name": "stdout",
     "output_type": "stream",
     "text": [
      "Help on function string_reverse_and_concat in module __main__:\n",
      "\n",
      "string_reverse_and_concat(str1, str2)\n",
      "    Returns the reversed and concated strings\n",
      "    \n",
      "    Parameters\n",
      "    ----------\n",
      "    str1 : str\n",
      "        The string which is to be reversed\n",
      "    str2 : str\n",
      "        The string which is to be concated\n",
      "    \n",
      "    \n",
      "    Returns\n",
      "    -------\n",
      "    result : str\n",
      "        The string which gets reversed str1 and concated with str2\n",
      "\n"
     ]
    }
   ],
   "source": [
    "help(string_reverse_and_concat)"
   ]
  },
  {
   "cell_type": "markdown",
   "metadata": {
    "slideshow": {
     "slide_type": "slide"
    }
   },
   "source": [
    "# Генераторы в Python\n",
    "Генераторы и итераторы представляют собой инструменты, которые, как правило, используются для поточной обработки данных.   \n",
    "  \n",
    "Итератор представляет собой объект перечислитель, который для данного объекта выдает следующий элемент, либо бросает исключение, если элементов больше нет."
   ]
  },
  {
   "cell_type": "markdown",
   "metadata": {
    "slideshow": {
     "slide_type": "subslide"
    }
   },
   "source": [
    "## Создание итератора"
   ]
  },
  {
   "cell_type": "code",
   "execution_count": 8,
   "metadata": {
    "slideshow": {
     "slide_type": "subslide"
    }
   },
   "outputs": [
    {
     "name": "stdout",
     "output_type": "stream",
     "text": [
      "<list_iterator object at 0x7ff6d40d10a0>\n",
      "1\n",
      "2\n",
      "5\n",
      "3\n"
     ]
    }
   ],
   "source": [
    "# Из списка\n",
    "it = iter([1, 2, 5, 3])\n",
    "print(it)\n",
    "# Перечисление циклом for\n",
    "for i in it:\n",
    "    print(i)"
   ]
  },
  {
   "cell_type": "markdown",
   "metadata": {},
   "source": [
    "## Генераторы"
   ]
  },
  {
   "cell_type": "code",
   "execution_count": null,
   "metadata": {},
   "outputs": [],
   "source": [
    "lst_sqr = [i ** 2 for i in range(6)]  # [0, 1, 4, 9, 16, 25]\n",
    "lst_sqr_even = [i ** 2 for i in range(5) if i % 2 == 0] # [0, 4, 16]"
   ]
  },
  {
   "cell_type": "code",
   "execution_count": 63,
   "metadata": {},
   "outputs": [],
   "source": [
    "list_comprehension = [i for i in range(5)]\n",
    "generator = (i for i in range(5))"
   ]
  },
  {
   "cell_type": "code",
   "execution_count": 64,
   "metadata": {},
   "outputs": [
    {
     "data": {
      "text/plain": [
       "[0, 1, 2, 3, 4]"
      ]
     },
     "execution_count": 64,
     "metadata": {},
     "output_type": "execute_result"
    }
   ],
   "source": [
    "list_comprehension"
   ]
  },
  {
   "cell_type": "code",
   "execution_count": 65,
   "metadata": {},
   "outputs": [
    {
     "data": {
      "text/plain": [
       "<generator object <genexpr> at 0x7fc29004f8b8>"
      ]
     },
     "execution_count": 65,
     "metadata": {},
     "output_type": "execute_result"
    }
   ],
   "source": [
    "generator"
   ]
  },
  {
   "cell_type": "code",
   "execution_count": 67,
   "metadata": {},
   "outputs": [],
   "source": [
    "for i in generator:\n",
    "    print(i, end=' ')"
   ]
  },
  {
   "cell_type": "markdown",
   "metadata": {
    "slideshow": {
     "slide_type": "slide"
    }
   },
   "source": [
    "# Файлы\n",
    "\n",
    "Файл __example.txt__ имеет следующее содержание:  \n",
    "_Hello  \n",
    "world!_  \n",
    "Открытие файла для чтения\n",
    "```python\n",
    "f = open('example.txt')\n",
    "f.read()  # 'Hello\\nworld!\\n'\n",
    "```\n",
    "__После окончания работы с файлом его обязательно нужно закрыть__\n",
    "```python\n",
    "f.close()\n",
    "```\n",
    "Конструкция _with ... as ..._ сама происзводит открытие и закрытие файла\n",
    "```python\n",
    "with open('example.txt') as f:\n",
    "    f.read()\n",
    "```\n",
    "\n",
    "Чтение строки файла\n",
    "```python\n",
    "with open('example.txt') as f:\n",
    "    f.readline()  # 'Hello\\n'\n",
    "```"
   ]
  },
  {
   "cell_type": "markdown",
   "metadata": {
    "slideshow": {
     "slide_type": "subslide"
    }
   },
   "source": [
    "Режим открытия файла\n",
    "* Открытие файла для чтение 'r'\n",
    "* Открытие файла для записи 'w'\n",
    "* Открытие файла для добавления 'a'\n",
    "* Открытие файла в двоичном режиме 'b'\n",
    "```python\n",
    "with open('out.txt', 'w') as f:\n",
    "    for s in ['It is\\n', 'output\\n']:\n",
    "        f.writeline()\n",
    "```\n",
    "\n",
    "Файл __out.txt__ тепреь содержит:  \n",
    "_It is  \n",
    "output_  "
   ]
  },
  {
   "cell_type": "markdown",
   "metadata": {
    "slideshow": {
     "slide_type": "slide"
    }
   },
   "source": [
    "# Исключения\n",
    "\n",
    "Конструкция _try ... except ..._ позволяет обрабатывать ошибки/исключения в процессе выполнения программы"
   ]
  },
  {
   "cell_type": "code",
   "execution_count": 11,
   "metadata": {},
   "outputs": [
    {
     "ename": "TypeError",
     "evalue": "unsupported operand type(s) for +: 'int' and 'str'",
     "output_type": "error",
     "traceback": [
      "\u001b[0;31m---------------------------------------------------------------------------\u001b[0m",
      "\u001b[0;31mTypeError\u001b[0m                                 Traceback (most recent call last)",
      "\u001b[0;32m<ipython-input-11-fd1b8605b7a4>\u001b[0m in \u001b[0;36m<module>\u001b[0;34m\u001b[0m\n\u001b[0;32m----> 1\u001b[0;31m \u001b[0ms\u001b[0m \u001b[0;34m=\u001b[0m \u001b[0;36m1\u001b[0m \u001b[0;34m+\u001b[0m \u001b[0;34m'2'\u001b[0m\u001b[0;34m\u001b[0m\u001b[0;34m\u001b[0m\u001b[0m\n\u001b[0m",
      "\u001b[0;31mTypeError\u001b[0m: unsupported operand type(s) for +: 'int' and 'str'"
     ]
    }
   ],
   "source": [
    "s = 1 + '2'"
   ]
  },
  {
   "cell_type": "code",
   "execution_count": 12,
   "metadata": {},
   "outputs": [
    {
     "name": "stdout",
     "output_type": "stream",
     "text": [
      "1\n"
     ]
    }
   ],
   "source": [
    "try:\n",
    "    s = 1 + '2'\n",
    "except TypeError:\n",
    "    s = 1\n",
    "print(s)"
   ]
  },
  {
   "cell_type": "markdown",
   "metadata": {
    "slideshow": {
     "slide_type": "subslide"
    }
   },
   "source": [
    "Есть возможность обрабатывать различные исключения"
   ]
  },
  {
   "cell_type": "code",
   "execution_count": 13,
   "metadata": {},
   "outputs": [
    {
     "name": "stdout",
     "output_type": "stream",
     "text": [
      "3 is not number\n",
      "Половина от 1 - ноль\n",
      "5 is not number\n",
      "Половинная сумма для 3 элементов из 6 : 7.3\n"
     ]
    }
   ],
   "source": [
    "import math\n",
    "arr = [3, 2.3, '3', 1, '5', 6]\n",
    "s, k, n = 0, 0, 0\n",
    "for a in arr:\n",
    "    try:\n",
    "        s += a / math.floor(a/2)\n",
    "    except TypeError:\n",
    "        print(a, 'is not number')\n",
    "    except ZeroDivisionError:\n",
    "        print('Половина от', a, '- ноль')\n",
    "    except Exception:\n",
    "        print('Неопределённая ошибка с', a)\n",
    "    else:\n",
    "        k += 1\n",
    "    finally:\n",
    "        n += 1\n",
    "print('Половинная сумма для', k, 'элементов из', n, ':', s)"
   ]
  },
  {
   "cell_type": "code",
   "execution_count": null,
   "metadata": {},
   "outputs": [],
   "source": []
  }
 ],
 "metadata": {
  "kernelspec": {
   "display_name": "Python 3",
   "language": "python",
   "name": "python3"
  },
  "language_info": {
   "codemirror_mode": {
    "name": "ipython",
    "version": 3
   },
   "file_extension": ".py",
   "mimetype": "text/x-python",
   "name": "python",
   "nbconvert_exporter": "python",
   "pygments_lexer": "ipython3",
   "version": "3.7.3"
  },
  "toc": {
   "base_numbering": 1,
   "nav_menu": {},
   "number_sections": true,
   "sideBar": true,
   "skip_h1_title": false,
   "title_cell": "Table of Contents",
   "title_sidebar": "Contents",
   "toc_cell": false,
   "toc_position": {
    "height": "calc(100% - 180px)",
    "left": "10px",
    "top": "150px",
    "width": "480px"
   },
   "toc_section_display": true,
   "toc_window_display": true
  }
 },
 "nbformat": 4,
 "nbformat_minor": 4
}
