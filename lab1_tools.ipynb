{
  "nbformat": 4,
  "nbformat_minor": 0,
  "metadata": {
    "anaconda-cloud": {},
    "kernelspec": {
      "display_name": "Python [default]",
      "language": "python",
      "name": "python3"
    },
    "language_info": {
      "codemirror_mode": {
        "name": "ipython",
        "version": 3
      },
      "file_extension": ".py",
      "mimetype": "text/x-python",
      "name": "python",
      "nbconvert_exporter": "python",
      "pygments_lexer": "ipython3",
      "version": "3.5.2"
    },
    "colab": {
      "name": "lab-tools.ipynb",
      "provenance": [],
      "collapsed_sections": []
    }
  },
  "cells": [
    {
      "cell_type": "markdown",
      "metadata": {
        "id": "w_f_NuFaqJzm"
      },
      "source": [
        "# Лабораторная работа 1\n",
        "Средства автоматизации расчетов и моделироаания систем управления в среде Python/scipy"
      ]
    },
    {
      "cell_type": "markdown",
      "metadata": {
        "id": "VFXG45naqJzu"
      },
      "source": [
        "### Модель системы"
      ]
    },
    {
      "cell_type": "markdown",
      "metadata": {
        "id": "xDjwIi_-qJzx"
      },
      "source": [
        "$\\dot P = - P^3 + dm + v(t)$"
      ]
    },
    {
      "cell_type": "markdown",
      "metadata": {
        "id": "6SfyUoBUqJzz"
      },
      "source": [
        "$\\dot dm = -dm + G \\, tanh(\\omega)$"
      ]
    },
    {
      "cell_type": "markdown",
      "metadata": {
        "id": "Yn-6xPDoqJz2"
      },
      "source": [
        "### 1. Автоматизация расчета закона управления с помощью пакета sympy"
      ]
    },
    {
      "cell_type": "code",
      "metadata": {
        "scrolled": true,
        "id": "fEhUrDOOqJz4",
        "outputId": "0919faf8-d67e-4d94-f1c8-567722a6b85f",
        "colab": {
          "base_uri": "https://localhost:8080/"
        }
      },
      "source": [
        "import sympy\n",
        "\n",
        "P=sympy.symbols('P')\n",
        "dm=sympy.symbols('dm')\n",
        "G=sympy.symbols('G')\n",
        "w=sympy.symbols('w')\n",
        "Pd=sympy.symbols('Pd')\n",
        "v=sympy.symbols('v')\n",
        "v0=sympy.symbols('v0')\n",
        "\n",
        "dP=-P**3 + dm + v + v0\n",
        "ddm=-dm + G * w\n",
        "\n",
        "print('Уравнения системы:')\n",
        "print('dP/dt=' + str(dP))\n",
        "print('ddm/dt=' + str(ddm))\n",
        "print('')"
      ],
      "execution_count": null,
      "outputs": [
        {
          "output_type": "stream",
          "text": [
            "Уравнения системы:\n",
            "dP/dt=-P**3 + dm + v + v0\n",
            "ddm/dt=G*w - dm\n",
            "\n"
          ],
          "name": "stdout"
        }
      ]
    },
    {
      "cell_type": "markdown",
      "metadata": {
        "id": "ZKiMj9GVqJ0D"
      },
      "source": [
        "$\\dot P_d = P_d - P$\n",
        "\n",
        "$\\dot P - \\dot P_d = 0$"
      ]
    },
    {
      "cell_type": "code",
      "metadata": {
        "id": "Em8eIt2VqJ0F",
        "outputId": "1416dfd1-118e-4ec4-9154-4ac0f92cd83b",
        "colab": {
          "base_uri": "https://localhost:8080/"
        }
      },
      "source": [
        "from sympy.solvers import solve\n",
        "DdP=Pd-P\n",
        "Ddm=solve(dP-DdP,dm)\n",
        "print('Желаемая функция dm(t) для эталонной модели dP='+str(DdP))\n",
        "print('dm='+str(Ddm))\n",
        "print('')"
      ],
      "execution_count": null,
      "outputs": [
        {
          "output_type": "stream",
          "text": [
            "Желаемая функция dm(t) для эталонной модели dP=-P + Pd\n",
            "dm=[P**3 - P + Pd - v - v0]\n",
            "\n"
          ],
          "name": "stdout"
        }
      ]
    },
    {
      "cell_type": "code",
      "metadata": {
        "id": "ycjupCuhqJ0L",
        "outputId": "213db9ae-6760-4b7c-eb53-e1ab61402af5",
        "colab": {
          "base_uri": "https://localhost:8080/"
        }
      },
      "source": [
        "psi=Ddm[0]-dm\n",
        "dpsi=sympy.diff(psi,P)*dP + sympy.diff(psi,dm)*ddm\n",
        "u=solve(sympy.expand(dpsi+psi),w)\n",
        "u_analytical = u[0]\n",
        "print('Закон управления по методу АКАР для макропеременной psi=' + str(psi))\n",
        "print('w='+str(u_analytical))\n",
        "print()"
      ],
      "execution_count": null,
      "outputs": [
        {
          "output_type": "stream",
          "text": [
            "Закон управления по методу АКАР для макропеременной psi=P**3 - P + Pd - dm - v - v0\n",
            "w=(-3*P**5 + 2*P**3 + 3*P**2*dm + 3*P**2*v + 3*P**2*v0 - P + Pd - dm - 2*v - 2*v0)/G\n",
            "\n"
          ],
          "name": "stdout"
        }
      ]
    },
    {
      "cell_type": "markdown",
      "metadata": {
        "id": "MvlWGiocqJ0U"
      },
      "source": [
        "### 2. Численное моделирование системы ОДУ"
      ]
    },
    {
      "cell_type": "code",
      "metadata": {
        "id": "ZFOx5p0dqJ0V",
        "outputId": "8333df5e-c446-4a5d-9695-18f82bb9f67a",
        "colab": {
          "base_uri": "https://localhost:8080/",
          "height": 265
        }
      },
      "source": [
        "import matplotlib.pyplot as plt \n",
        "import scipy.integrate as mdl \n",
        "import math\n",
        "import numpy as np\n",
        "\n",
        "u = 20.0\n",
        "x0d = 3.0\n",
        "def F(x, t):\n",
        "    return [-math.pow(x[0],3)+x[1], -x[1]+0.25*math.tanh(-1.0*x[0]), 0.1*(x[0] - x0d)] \n",
        "\n",
        "u = 5.0\n",
        "t = np.linspace(0, 10, 10000)\n",
        "y = mdl.odeint(F, [2.0, 0.0], t)\n",
        "\n",
        "plt.plot(t,y)\n",
        "plt.show()"
      ],
      "execution_count": null,
      "outputs": [
        {
          "output_type": "display_data",
          "data": {
            "image/png": "[encoded data removed]",
            "text/plain": [
              "<Figure size 432x288 with 1 Axes>"
            ]
          },
          "metadata": {
            "tags": [],
            "needs_background": "light"
          }
        }
      ]
    },
    {
      "cell_type": "code",
      "metadata": {
        "id": "i-Nk53bBvVD3",
        "outputId": "dad7b3c0-fce4-4836-b550-eda782567652",
        "colab": {
          "base_uri": "https://localhost:8080/"
        }
      },
      "source": [
        "print(t)"
      ],
      "execution_count": null,
      "outputs": [
        {
          "output_type": "stream",
          "text": [
            "[0.00000000e+00 1.00010001e-03 2.00020002e-03 ... 9.99799980e+00\n",
            " 9.99899990e+00 1.00000000e+01]\n"
          ],
          "name": "stdout"
        }
      ]
    },
    {
      "cell_type": "markdown",
      "metadata": {
        "id": "GnfFjuQEqJ0b"
      },
      "source": [
        "### 3. Моделирование САУ с цифровым ПИ-регулятором"
      ]
    },
    {
      "cell_type": "markdown",
      "metadata": {
        "id": "oVl6boH7qJ0d"
      },
      "source": [
        "\n",
        "Базовый класс для моделирования контроллера"
      ]
    },
    {
      "cell_type": "code",
      "metadata": {
        "id": "QRlSZeqUqJ0f"
      },
      "source": [
        "import math\n",
        "import numpy\n",
        "\n",
        "class PLC:\n",
        "    def __init__(self, gain, step):\n",
        "        self.last_t = 0.0\n",
        "        self.last_call_t = 0.0\n",
        "        self.last_u = 0\n",
        "        self.step = step\n",
        "        self.last_e = 0.0\n",
        "        self.gain = gain\n",
        "        self.u = []\n",
        "        self.ulim = []\n",
        "        self.t = []\n",
        "        \n",
        "    def getLimitedOutput(self,value):\n",
        "        return math.tanh(value)\n",
        "        \n",
        "    def addOutputValue(self,time,value):\n",
        "        self.t.append(time)\n",
        "        self.u.append(value)\n",
        "        self.ulim.append(self.getLimitedOutput(value))\n",
        "        \n",
        "    def output(self, x, t):\n",
        "        self.addOutputValue(t, self.last_u)\n",
        "        self.last_u = self.control(x, t)\n",
        "        self.last_t = t\n",
        "        self.addOutputValue(t,self.last_u)\n",
        "        \n",
        "        return self.gain*self.ulim[-1]\n",
        "\n",
        "def calculate(func, x0, step, time, plc):\n",
        "    result = {'t': [], 'u':[]}\n",
        "    for i in range(0,len(x0)):\n",
        "        result['x' + str(i + 1)] = []\n",
        "    rstep = plc.step\n",
        "    ode_step = step\n",
        "    timev = numpy.linspace(0.0, time, int(time/rstep+1))\n",
        "    for ti in timev:\n",
        "        uk = plc.output(x0, ti)\n",
        "        tk = np.linspace(ti, ti+rstep, int(rstep/ode_step+1))\n",
        "        y = mdl.odeint(func(uk), x0, tk)\n",
        "        x0 = y[-1]\n",
        "        result['t'].extend(tk[:-1])\n",
        "        for i in range(0,len(x0)):\n",
        "            result['x' + str(i + 1)].extend(y[:-1,i])\n",
        "        result['u'].extend([uk for i in tk[:-1]])\n",
        "    return result\n"
      ],
      "execution_count": null,
      "outputs": []
    },
    {
      "cell_type": "markdown",
      "metadata": {
        "id": "_yodeplwUtw5"
      },
      "source": [
        "Правая часть дифференциального уравнения объекта со ступенчатым изменением параметра"
      ]
    },
    {
      "cell_type": "code",
      "metadata": {
        "id": "eQHsrvF2U2nH"
      },
      "source": [
        "def F_with_change(step_time, init_value, finish_value):\n",
        "    def F_with_control(uc):\n",
        "        def F_internal(x, t):\n",
        "            if t > step_time:\n",
        "                v0 = finish_value\n",
        "            else:\n",
        "                v0 = init_value\n",
        "            return [ -math.pow(x[0],3) + x[1] + v0, -x[1] + uc] \n",
        "    \n",
        "        return F_internal\n",
        "    return F_with_control"
      ],
      "execution_count": null,
      "outputs": []
    },
    {
      "cell_type": "markdown",
      "metadata": {
        "collapsed": true,
        "id": "ttqbxgS5qJ0n"
      },
      "source": [
        "Реализация алгоритма ПИ-регулирования"
      ]
    },
    {
      "cell_type": "code",
      "metadata": {
        "id": "j3VNA9CCqJ0p"
      },
      "source": [
        "class PI(PLC):\n",
        "    def __init__(self, goal, Kp, Ki, gain, step):\n",
        "        super(PI,self).__init__(gain, step)\n",
        "        self.Ki = Ki\n",
        "        self.Kp = Kp\n",
        "        self.goal = goal\n",
        "        self.ei = 0\n",
        "    \n",
        "    def control(self, x, t):\n",
        "        e = x[0] - self.goal\n",
        "        self.ei = self.ei + e        \n",
        "        return self.Kp * e + self.Ki * self.ei"
      ],
      "execution_count": null,
      "outputs": []
    },
    {
      "cell_type": "markdown",
      "metadata": {
        "id": "RhxxTcwXTuDD"
      },
      "source": [
        "Вывод результатов моделирования"
      ]
    },
    {
      "cell_type": "code",
      "metadata": {
        "scrolled": true,
        "id": "WnLkBUTQqJ05"
      },
      "source": [
        "def plot_result(time, time_end, x1, x2, plc, goal):\n",
        "    plt.figure(figsize=(15,5))\n",
        "    plt.subplot(1,2,1)\n",
        "    plt.grid()\n",
        "    plt.xlim(0, time_end)\n",
        "    plt.plot(time,x1, 'r-', time, x2, 'b-') \n",
        "    plt.plot([0, time_end], [goal, goal], color='#FF0000',linestyle='--') \n",
        "    plt.subplot(1,2,2)\n",
        "    plt.grid()\n",
        "    plt.xlim(0, time_end)\n",
        "    plt.plot(plc.t, plc.u,'b-',plc.t,plc.ulim,'r-')\n",
        "    plt.plot([0, tk], [1, 1], 'r--',[0, tk], [-1, -1], 'r--',[0, tk],[0, 0],'r:')  \n",
        "    plt.show()"
      ],
      "execution_count": null,
      "outputs": []
    },
    {
      "cell_type": "markdown",
      "metadata": {
        "id": "m9JXPdaXqJ0t"
      },
      "source": [
        "Программа моделирования"
      ]
    },
    {
      "cell_type": "code",
      "metadata": {
        "id": "p6JvzWmGqJ0w",
        "outputId": "29cc4636-04b0-4ed3-e175-c63626f80dc0",
        "colab": {
          "base_uri": "https://localhost:8080/",
          "height": 320
        }
      },
      "source": [
        "v0_init = 0.0\n",
        "v0_finish = 1.0\n",
        "change_time = 15\n",
        "goal = 0.55\n",
        "gain = 3.0\n",
        "step = 0.5\n",
        "mod_step = 0.1\n",
        "func_ctrl = F_with_change(change_time,v0_init,v0_finish)\n",
        "\n",
        "plc=PI(goal=goal, Kp=-1.0, Ki=-0.05, gain=gain, step=step) \n",
        "tk=30\n",
        "x0=[-2.5, 0.1]\n",
        "res = calculate(func_ctrl, x0, mod_step, tk, plc)\n",
        "plot_result(time=res['t'], time_end=tk, x1=res['x1'], x2=res['x2'], plc=plc, goal=goal)"
      ],
      "execution_count": null,
      "outputs": [
        {
          "output_type": "display_data",
          "data": {
            "image/png": "[encoded data removed]",
            "text/plain": [
              "<Figure size 1080x360 with 2 Axes>"
            ]
          },
          "metadata": {
            "tags": [],
            "needs_background": "light"
          }
        }
      ]
    }
  ]
}