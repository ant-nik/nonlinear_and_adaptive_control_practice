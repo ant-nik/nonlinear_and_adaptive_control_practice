{
  "nbformat": 4,
  "nbformat_minor": 0,
  "metadata": {
    "anaconda-cloud": {},
    "kernelspec": {
      "display_name": "Python [default]",
      "language": "python",
      "name": "python3"
    },
    "language_info": {
      "codemirror_mode": {
        "name": "ipython",
        "version": 3
      },
      "file_extension": ".py",
      "mimetype": "text/x-python",
      "name": "python",
      "nbconvert_exporter": "python",
      "pygments_lexer": "ipython3",
      "version": "3.5.2"
    },
    "colab": {
      "name": "lab3-akar-ident.ipynb",
      "provenance": []
    }
  },
  "cells": [
    {
      "cell_type": "markdown",
      "metadata": {
        "id": "w_f_NuFaqJzm"
      },
      "source": [
        "# Лабораторная работа №3\n",
        "Система с идентификацией параметров."
      ]
    },
    {
      "cell_type": "markdown",
      "metadata": {
        "id": "VFXG45naqJzu"
      },
      "source": [
        "### 1. Модель системы и закон управления"
      ]
    },
    {
      "cell_type": "markdown",
      "metadata": {
        "id": "xDjwIi_-qJzx"
      },
      "source": [
        "$\\dot P = - P^3 + dm + v(t)$"
      ]
    },
    {
      "cell_type": "markdown",
      "metadata": {
        "id": "6SfyUoBUqJzz"
      },
      "source": [
        "$\\dot dm = -dm + G \\, tanh(\\omega)$\n"
      ]
    },
    {
      "cell_type": "markdown",
      "metadata": {
        "id": "bAIHnSmmuLD9"
      },
      "source": [
        "Закон управления, синтезированный по методу АКАР"
      ]
    },
    {
      "cell_type": "markdown",
      "metadata": {
        "id": "CUT7xDPgtYnI"
      },
      "source": [
        "$w=(-3 P^5 + 2 P^3 + 3 P^2 dm + 3 P^2 v(t) + 3 P^2 v_0 - P + Pd - dm - 2 v(t) - 2 v_0)/G$"
      ]
    },
    {
      "cell_type": "markdown",
      "metadata": {
        "id": "xl6rtqnbtxBd"
      },
      "source": [
        "для    $P = Pd$"
      ]
    },
    {
      "cell_type": "markdown",
      "source": [
        "Аналогичные выражения могут быть получены с помощью пакета символьных вычислений"
      ],
      "metadata": {
        "id": "0TpK9X9jp83j"
      }
    },
    {
      "cell_type": "code",
      "source": [
        "import sympy\n",
        "from sympy.solvers import solve\n",
        "\n",
        "P = sympy.symbols('P')\n",
        "dm = sympy.symbols('dm')\n",
        "G = sympy.symbols('G')\n",
        "w = sympy.symbols('w')\n",
        "Pd = sympy.symbols('Pd')\n",
        "v0 = sympy.symbols('v0')\n",
        "T_1 = sympy.symbols('T_1')\n",
        "T_2 = sympy.symbols('T_2')\n",
        "a = sympy.symbols('a')\n",
        "\n",
        "dP = a*P**3 + dm + v0\n",
        "ddm = -dm + G * w\n",
        "psi_1 = P - Pd\n",
        "dpsi_1 = sympy.diff(psi_1, P)*dP\n",
        "dmi = solve(sympy.expand(T_1*dpsi_1 + psi_1), dm)\n",
        "print(f'dm = {str(dmi[0])}')\n",
        "psi_2 = dmi[0] - dm\n",
        "dpsi_2 = sympy.diff(psi_2, P)*dP + sympy.diff(psi_2,dm)*ddm\n",
        "u = solve(sympy.expand(T_2*dpsi_2 + psi_2), w)\n",
        "u_analytical = u[0]\n",
        "print(f'psi_2 = {str(psi_2)}')\n",
        "print(f'w = {str(u_analytical)}')"
      ],
      "metadata": {
        "id": "Pd1HR8JnqCX-"
      },
      "execution_count": null,
      "outputs": []
    },
    {
      "cell_type": "markdown",
      "metadata": {
        "id": "YPZW6AlZuq0F"
      },
      "source": [
        "### 2. Вспомогательные модули для моделирования"
      ]
    },
    {
      "cell_type": "markdown",
      "metadata": {
        "id": "oVl6boH7qJ0d"
      },
      "source": [
        "\n",
        "Импорт внешних модулей"
      ]
    },
    {
      "cell_type": "code",
      "source": [
        "!pip install digicon_mod"
      ],
      "metadata": {
        "id": "IAiSaa7VTtB9"
      },
      "execution_count": null,
      "outputs": []
    },
    {
      "cell_type": "code",
      "metadata": {
        "id": "QRlSZeqUqJ0f"
      },
      "source": [
        "import math\n",
        "import numpy\n",
        "import matplotlib.pyplot as plt\n",
        "import sklearn.linear_model as linmod\n",
        "\n",
        "import digicon_mod"
      ],
      "execution_count": null,
      "outputs": []
    },
    {
      "cell_type": "markdown",
      "metadata": {
        "id": "_yodeplwUtw5"
      },
      "source": [
        "Правая часть дифференциального уравнения объекта со ступенчатым изменением параметра"
      ]
    },
    {
      "cell_type": "code",
      "metadata": {
        "id": "eQHsrvF2U2nH"
      },
      "source": [
        "def F_with_change(step_time, init_value, finish_value):\n",
        "    def F_with_control(uc):\n",
        "        def F_internal(x, t):\n",
        "            if t > step_time:\n",
        "                v = finish_value\n",
        "            else:\n",
        "                v = init_value\n",
        "            return [ -math.pow(x[0],3) + x[1] + v, -x[1] + uc]\n",
        "\n",
        "        return F_internal\n",
        "    return F_with_control"
      ],
      "execution_count": null,
      "outputs": []
    },
    {
      "cell_type": "markdown",
      "metadata": {
        "id": "RhxxTcwXTuDD"
      },
      "source": [
        "Вывод результатов моделирования"
      ]
    },
    {
      "cell_type": "code",
      "metadata": {
        "scrolled": true,
        "id": "WnLkBUTQqJ05"
      },
      "source": [
        "def plot_result(time, time_end, x1, x2, plc, goal):\n",
        "    plt.figure(figsize=(15,5))\n",
        "    plt.subplot(1,2,1)\n",
        "    plt.grid()\n",
        "    plt.xlim(0, time_end)\n",
        "    plt.plot(time,x1, 'r-', time, x2, 'b-')\n",
        "    plt.plot([0, time_end], [goal, goal], color='#FF0000',linestyle='--')\n",
        "    plt.subplot(1,2,2)\n",
        "    plt.grid()\n",
        "    plt.xlim(0, time_end)\n",
        "    plt.plot(plc.t, plc.u,'b-',plc.t,plc.u_lim,'r-')\n",
        "    plt.plot([0, tk], [1, 1], 'r--',[0, tk], [-1, -1], 'r--',[0, tk],[0, 0],'r:')\n",
        "    plt.ylim([-2.0, 2.0])\n",
        "    plt.show()"
      ],
      "execution_count": null,
      "outputs": []
    },
    {
      "cell_type": "markdown",
      "metadata": {
        "id": "9NX8dCMuqRsV"
      },
      "source": [
        "####3. Моделирование САУ с адаптивным регулятором идентификационного типа"
      ]
    },
    {
      "cell_type": "markdown",
      "metadata": {
        "id": "vZDkhXV47s8y"
      },
      "source": [
        "Реализация алгоритма адаптивного управления на основе идентификации неизвестных параметров модели использует следующие идеи:\n",
        "\n",
        "- расширение размерности исходной системы с целью устранения нелинейностей модели (новые переменные это нелинейные функции показаний датчика);\n",
        "- формирование линейной модели процесса в расширенном пространстве переменных;\n",
        "- накопление истории измерений фиксированной длинны внутри контроллера;\n",
        "- использование метода наименьших квадратов для вычисления параметров линейной модели процеса;\n",
        "- подстановка полученных параметров в функцию управления, полученную по методу АКАР.\n",
        "\n",
        "Постановка задачи идентификации на основе модели линейной регрессии\n"
      ]
    },
    {
      "cell_type": "markdown",
      "metadata": {
        "id": "a2ijJwwiNaAc"
      },
      "source": [
        "$\\dot P = \\theta \\, P^3 + dm + v(t), \\, v(t) \\approx const$ ,"
      ]
    },
    {
      "cell_type": "markdown",
      "metadata": {
        "id": "EPD5dQUnMMn8"
      },
      "source": [
        "$y = a\\,x + b, \\,\\, y=\\dot P - dm, \\,\\, x = P^3, \\,\\, a = \\theta, \\,\\, b=v,\\,\\, \\dot P_k \\approx \\frac{P_k - P_{k-1}}{\\Delta t}$"
      ]
    },
    {
      "cell_type": "markdown",
      "metadata": {
        "id": "GJn-bf_lM8yG"
      },
      "source": [
        "Реализация адаптивного регулятора (см. пакет sklearn\n",
        "https://scikit-learn.org/stable/)"
      ]
    },
    {
      "cell_type": "code",
      "metadata": {
        "id": "1sjdG06EqaBp"
      },
      "source": [
        "class ADCS_ident(digicon_mod.plc.PLC):\n",
        "    def __init__(self, goal, gain, dt):\n",
        "        super(ADCS_ident,self).__init__(gain, dt)\n",
        "        self.G = gain\n",
        "        self.Pd = goal\n",
        "        self.x_history = []\n",
        "        self.x_history_len = 30\n",
        "        self.dt = dt\n",
        "        self.coeff = {'t':[0.0], 'a':[0.0], 'b':[0.0]}\n",
        "        self.func = sympy.lambdify(list(u_analytical.free_symbols), u_analytical)\n",
        "\n",
        "    def transform(self, x, t):\n",
        "        return [x[0], x[1], math.pow(x[0],3.0)]\n",
        "\n",
        "    def identification(self, x, t):\n",
        "        self.x_history.append(x)\n",
        "        if len(self.x_history) > self.x_history_len:\n",
        "            self.x_history.pop(0)\n",
        "        if len(self.x_history) > 1:\n",
        "            z = numpy.array([self.transform(zi, t) for zi in (numpy.array(self.x_history)[:-1])])\n",
        "            y = numpy.diff(numpy.array(self.x_history),axis=0)/self.dt\n",
        "            y1 = y[:,0] - z[:,1]\n",
        "            model = linmod.LinearRegression()\n",
        "            model.fit(X=z[:,2].reshape(-1,1), y=y1)\n",
        "            self.coeff['t'].append(t)\n",
        "            self.coeff['a'].append(model.coef_)\n",
        "            self.coeff['b'].append(model.intercept_)\n",
        "\n",
        "    def control(self, x, t):\n",
        "        self.identification(x, t)\n",
        "        v0 = self.coeff['b'][-1]\n",
        "        a = self.coeff['a'][-1]\n",
        "        P = x[0]\n",
        "        G = self.gain\n",
        "        dm = x[1]\n",
        "        Pd = self.Pd\n",
        "        return self.func(\n",
        "            T_1=3.0, P=P, dm=dm, Pd=Pd, G=G, T_2=1.0, a=a, v0=v0\n",
        "        )\n"
      ],
      "execution_count": null,
      "outputs": []
    },
    {
      "cell_type": "markdown",
      "metadata": {
        "id": "Y7zw1QG5uhJi"
      },
      "source": [
        "Тест регулятора"
      ]
    },
    {
      "cell_type": "code",
      "metadata": {
        "id": "EVUNNbdwAgsv"
      },
      "source": [
        "v0_init = 0.0\n",
        "v0_finish = 2.0\n",
        "change_time = 30\n",
        "goal = 0.55\n",
        "gain = 4\n",
        "step = 0.5\n",
        "mod_step = 0.1\n",
        "tk = 100\n",
        "x0 = [0.3, -0.1]\n",
        "func_ctrl = F_with_change(change_time,v0_init,v0_finish)\n",
        "\n",
        "reg = ADCS_ident(goal=goal, gain=gain, dt=step)\n",
        "res = digicon_mod.sim.calculate(func_ctrl, x0, mod_step, tk, reg)\n",
        "plot_result(time=res['t'], time_end=tk, x1 = res['x1'], x2 = res['x2'], plc=reg, goal=goal)\n",
        "\n",
        "tend = tk\n",
        "plt.figure()\n",
        "plt.plot(reg.coeff['t'], reg.coeff['a'], 'r', [0, tk], [-1, -1], 'r--',\n",
        "         reg.coeff['t'], reg.coeff['b'], 'b', [0, change_time, change_time, tk], [v0_init, v0_init, v0_finish, v0_finish], 'b--')\n",
        "plt.ylim([-5.0, 5.0])\n",
        "plt.xlim([0, tk])\n",
        "plt.grid()\n",
        "plt.show()"
      ],
      "execution_count": null,
      "outputs": []
    }
  ]
}